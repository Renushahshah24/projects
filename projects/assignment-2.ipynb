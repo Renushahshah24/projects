{
 "cells": [
  {
   "cell_type": "code",
   "execution_count": 71,
   "id": "54690fe0",
   "metadata": {},
   "outputs": [
    {
     "name": "stdout",
     "output_type": "stream",
     "text": [
      "Low Priority\n"
     ]
    }
   ],
   "source": [
    "#Q1.\n",
    "\n",
    "temperature = float(input(\"Enter patient's temperature in °F: \"))\n",
    "pain_level = input(str(\"Enter pain level (none, moderate, severe): \"))\n",
    "\n",
    "if temperature > 102 or pain_level == \"severe\":\n",
    "    print(\"High Priority\")\n",
    "elif 99 <= temperature <= 102 or pain_level == \"moderate\":\n",
    "    print(\"Medium Priority\")\n",
    "else:\n",
    "    print(\"Low Priority\")\n",
    "\n"
   ]
  },
  {
   "cell_type": "code",
   "execution_count": null,
   "id": "0a9e2a30",
   "metadata": {},
   "outputs": [
    {
     "name": "stdout",
     "output_type": "stream",
     "text": [
      "Delivery fee is 100 rupee\n"
     ]
    }
   ],
   "source": [
    "#Q2.\n",
    "\n",
    "value=(int(input(\"enter the detail\")))\n",
    "membership=(str(input(\"Enter the membership status\")))\n",
    "if value > 1000 and 2000 or membership == \"yes\":\n",
    "  print(\"Provide Free delivery\")\n",
    "else:\n",
    "  print(\"Delivery fee is 100 rupee\")  "
   ]
  },
  {
   "cell_type": "code",
   "execution_count": null,
   "id": "71946f72",
   "metadata": {},
   "outputs": [
    {
     "name": "stdout",
     "output_type": "stream",
     "text": [
      "45\n",
      "Overdue charge will be :9\n"
     ]
    }
   ],
   "source": [
    "#Q3.\n",
    "\n",
    "\n",
    "overdue = int(input(\"Enter the overdue days\"))\n",
    "if overdue<=5:\n",
    "    print(overdue*2)\n",
    "elif overdue <= 10:\n",
    "    print(overdue*5)\n",
    "else:\n",
    "    print(overdue*10)\n",
    "print(f\"Overdue charge will be :{}\")\n",
    "\n",
    "\n",
    "\n",
    "\n",
    "\n"
   ]
  },
  {
   "cell_type": "markdown",
   "id": "fbff0a1a",
   "metadata": {},
   "source": [
    "Airlines allow the following luggage limits:\n",
    "Economy Class: Up to 20 kg. Excess luggage is charged ₹200 per kg.\n",
    "Business Class: Up to 30 kg. Excess luggage is charged ₹150 per kg.\n",
    "First Class: Up to 40 kg. Excess luggage is charged ₹100 per kg.\n",
    "Take the class type (\"economy,\" \"business,\" or \"fi rst\") and the luggage weight as input, and calculate the excess fee if applicable"
   ]
  },
  {
   "cell_type": "code",
   "execution_count": 93,
   "id": "fad02fee",
   "metadata": {},
   "outputs": [
    {
     "name": "stdout",
     "output_type": "stream",
     "text": [
      "4100\n"
     ]
    }
   ],
   "source": [
    "#Q4.\n",
    "\n",
    "luggage_weight = int(input(\"Enter the luggage weight\"))\n",
    "if luggage_weight<=20 or luggage_weight<30:\n",
    "    print(luggage_weight*200)\n",
    "elif luggage_weight<=30 or luggage_weight<=40:\n",
    "    print(luggage_weight*150)\n",
    "else:\n",
    "    print(luggage_weight*100)\n",
    "    #print(f\"total Eccess luggage weight charges:{}\")   \n"
   ]
  },
  {
   "cell_type": "markdown",
   "id": "548fbbb7",
   "metadata": {},
   "source": [
    "A hotel offers discounts based on the type of customer and room type:\n",
    "Regular customers get 10% off on all rooms.\n",
    "Members get 20% off on deluxe rooms and 15% off on standard rooms.\n",
    "VIP customers get 30% off on all rooms.\n",
    "Take customer type (\"regular,\" \"member,\" or \"VIP\") and room type (\"standard\" or \"deluxe\") as input, and calculate the fi nal price after applying the discount."
   ]
  },
  {
   "cell_type": "code",
   "execution_count": 8,
   "id": "c057eb04",
   "metadata": {},
   "outputs": [
    {
     "name": "stdout",
     "output_type": "stream",
     "text": [
      "NO Discount\n"
     ]
    }
   ],
   "source": [
    "#Q5.\n",
    "#Room_price = input(\"Enter price\")\n",
    "Room_type = input(\"Enter room type\")\n",
    "customer = str(input(\"Enter the type of customer\"))\n",
    "if customer==\"Regular\":\n",
    "    print(\" Get 10% for all room\")\n",
    "elif customer==\"member\":\n",
    "    if Room_type ==\"deluxe\":\n",
    "        print(\" Get20% for delux room\")\n",
    "    \n",
    "elif customer==\"VIP\":\n",
    "    print(\"30%\")  \n",
    "else:\n",
    "    print(\"NO Discount\")      \n",
    "\n",
    "\n",
    "\n",
    "\n"
   ]
  },
  {
   "cell_type": "markdown",
   "id": "60e5fe59",
   "metadata": {},
   "source": [
    "An electricity company charges based on energy consumption as follows:\n",
    "For consumption up to 100 units, the rate is ₹5 per unit.\n",
    "For consumption between 101 and 300 units, the rate is ₹10 per unit for additional units. For consumption above 300 units, the rate is ₹15 per unit for additional units. Take the total consumption as input and calculate the total bill."
   ]
  },
  {
   "cell_type": "code",
   "execution_count": 20,
   "id": "9d718d74",
   "metadata": {},
   "outputs": [
    {
     "name": "stdout",
     "output_type": "stream",
     "text": [
      "500\n"
     ]
    },
    {
     "ename": "TypeError",
     "evalue": "unsupported operand type(s) for +: 'NoneType' and 'int'",
     "output_type": "error",
     "traceback": [
      "\u001b[1;31m---------------------------------------------------------------------------\u001b[0m",
      "\u001b[1;31mTypeError\u001b[0m                                 Traceback (most recent call last)",
      "Cell \u001b[1;32mIn[20], line 7\u001b[0m\n\u001b[0;32m      5\u001b[0m     \u001b[38;5;28mprint\u001b[39m(consumed_unit\u001b[38;5;241m*\u001b[39m\u001b[38;5;241m5\u001b[39m)\n\u001b[0;32m      6\u001b[0m \u001b[38;5;28;01melif\u001b[39;00m consumed_unit\u001b[38;5;241m>\u001b[39m\u001b[38;5;241m=\u001b[39m\u001b[38;5;241m101\u001b[39m \u001b[38;5;129;01mor\u001b[39;00m consumed_unit\u001b[38;5;241m<\u001b[39m\u001b[38;5;241m=\u001b[39m\u001b[38;5;241m300\u001b[39m:\n\u001b[1;32m----> 7\u001b[0m         \u001b[38;5;28mprint\u001b[39m (\u001b[38;5;241m100\u001b[39m\u001b[38;5;241m*\u001b[39m\u001b[38;5;241m5\u001b[39m) \u001b[38;5;241m+\u001b[39m ((consumed_unit\u001b[38;5;241m-\u001b[39m\u001b[38;5;241m100\u001b[39m)\u001b[38;5;241m*\u001b[39m\u001b[38;5;241m10\u001b[39m)\n\u001b[0;32m      8\u001b[0m \u001b[38;5;28;01melse\u001b[39;00m:\n\u001b[0;32m      9\u001b[0m      \u001b[38;5;66;03m# consumed_unit>=300:\u001b[39;00m\n\u001b[0;32m     10\u001b[0m     \u001b[38;5;28mprint\u001b[39m(\u001b[38;5;241m100\u001b[39m\u001b[38;5;241m*\u001b[39m\u001b[38;5;241m5\u001b[39m)\u001b[38;5;241m+\u001b[39m(\u001b[38;5;241m200\u001b[39m\u001b[38;5;241m*\u001b[39m\u001b[38;5;241m10\u001b[39m)\u001b[38;5;241m+\u001b[39m((consumed_unit\u001b[38;5;241m-\u001b[39m\u001b[38;5;241m300\u001b[39m)\u001b[38;5;241m*\u001b[39m\u001b[38;5;241m15\u001b[39m)\n",
      "\u001b[1;31mTypeError\u001b[0m: unsupported operand type(s) for +: 'NoneType' and 'int'"
     ]
    }
   ],
   "source": [
    "#Q6.\n",
    "\n",
    "consumed_unit = int(input(\"Enter the Total consume electricity unit\"))\n",
    "if consumed_unit <=100:\n",
    "    print(consumed_unit*5)\n",
    "elif consumed_unit>=101 or consumed_unit<=300:\n",
    "        print (100*5) + ((consumed_unit-100)*10)\n",
    "else:\n",
    "     # consumed_unit>=300:\n",
    "    print(100*5)+(200*10)+((consumed_unit-300)*15)  \n",
    "       \n",
    "\n"
   ]
  },
  {
   "cell_type": "markdown",
   "id": "b5fbf4f7",
   "metadata": {},
   "source": [
    "A ride-sharing app charges based on the time of day and distance:\n",
    "Daytime (6 AM to 10 PM): ₹15 per km.\n",
    "Nighttime (10 PM to 6 AM): ₹20 per km.\n",
    "If the distance is more than 20 km, apply a 10% discount on the total fare. Take the time (\"day\" or \"night\") and distance as input, and calculate the total fare"
   ]
  },
  {
   "cell_type": "code",
   "execution_count": 24,
   "id": "83cf6b95",
   "metadata": {},
   "outputs": [
    {
     "name": "stdout",
     "output_type": "stream",
     "text": [
      "charges will be 20 rupee per km\n"
     ]
    }
   ],
   "source": [
    "#Q7.\n",
    "day_time = input(\"Enter day time\")\n",
    "distance = input(\"Enter the Time \")\n",
    "if day_time==\"Day\":\n",
    "    print(\"charges will be 15 rupee per km\")\n",
    "elif day_time ==\"night\":\n",
    "    print(\"charges will be 15 rupee per km\")\n",
    "else:\n",
    "    print(\"charges will be 20 rupee per km\")\n",
    "   \n"
   ]
  },
  {
   "cell_type": "markdown",
   "id": "3c7885eb",
   "metadata": {},
   "source": [
    "or an event, the following entry rules apply:\n",
    "Visitors under 12 or above 60 get free entry.\n",
    "Students (12–25 years) with a valid ID get a 50% discount.\n",
    "All other visitors must pay full price.\n",
    "Take the age and student ID status (\"yes\" or \"no\") as input, and determine the entry fee.\n"
   ]
  },
  {
   "cell_type": "code",
   "execution_count": null,
   "id": "f5d80b63",
   "metadata": {},
   "outputs": [],
   "source": [
    "#Q8.\n",
    "\n",
    "visitor_age = int(input(\"Enter the students age\"))\n",
    "student_ID = str(input(\"Enter if id is availabele then Yes otherwise No\"))\n",
    "enrty_fee = float(input(\"Enter the entry charges amount\"))\n",
    "\n",
    "if visitor_age >=12 and  visitor_age>=60:\n",
    "    print(\"Free Entry\")\n",
    "    \n",
    "elif visitor_age >12 and visitor_age<=25:\n",
    "    if student_ID ==\"Yes\":\n",
    "        print(enrty_fee*0.50) \n",
    "else:\n",
    "    print(\"Full charges will be\")          \n",
    "\n",
    "\n"
   ]
  },
  {
   "cell_type": "markdown",
   "id": "af27f09c",
   "metadata": {},
   "source": [
    "A parking lot charges based on the type of vehicle:\n",
    "Cars: ₹50 for the fi rst hour, ₹20 for every additional hour.\n",
    "Bikes: ₹20 for the fi rst hour, ₹10 for every additional hour.\n",
    "Take the type of vehicle (\"car\" or \"bike\") and the parking duration as input, and calculate the parking fee.\n",
    "10."
   ]
  },
  {
   "cell_type": "code",
   "execution_count": null,
   "id": "41522236",
   "metadata": {},
   "outputs": [],
   "source": [
    "#Q9.\n",
    "\n",
    "\n",
    "\n"
   ]
  },
  {
   "cell_type": "markdown",
   "id": "b83bd6bd",
   "metadata": {},
   "source": [
    "bank offers real estate loans based on the following criteria:\n",
    "If the applicant earns more than ₹1,00,000 per month and has no existing loans, they are eligible for a 90% loan-to-value (LTV) ratio.\n",
    "If the applicant earns between ₹50,000 and ₹1,00,000, or has existing loans, they are eligible for a 70% LTV ratio.\n",
    "Otherwise, they are eligible for a 50% LTV ratio.\n",
    "Take the monthly income and loan status (\"yes\" or \"no\") as input, and display the eligible LTV ratio."
   ]
  },
  {
   "cell_type": "code",
   "execution_count": null,
   "id": "f9656473",
   "metadata": {},
   "outputs": [],
   "source": [
    "#Q10."
   ]
  },
  {
   "cell_type": "code",
   "execution_count": null,
   "id": "ef907f77",
   "metadata": {},
   "outputs": [],
   "source": []
  },
  {
   "cell_type": "code",
   "execution_count": null,
   "id": "7b0901da",
   "metadata": {},
   "outputs": [],
   "source": []
  },
  {
   "cell_type": "code",
   "execution_count": null,
   "id": "9b02654a",
   "metadata": {},
   "outputs": [],
   "source": []
  }
 ],
 "metadata": {
  "kernelspec": {
   "display_name": "base",
   "language": "python",
   "name": "python3"
  },
  "language_info": {
   "codemirror_mode": {
    "name": "ipython",
    "version": 3
   },
   "file_extension": ".py",
   "mimetype": "text/x-python",
   "name": "python",
   "nbconvert_exporter": "python",
   "pygments_lexer": "ipython3",
   "version": "3.12.7"
  }
 },
 "nbformat": 4,
 "nbformat_minor": 5
}
