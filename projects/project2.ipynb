{
 "cells": [
  {
   "cell_type": "code",
   "execution_count": null,
   "metadata": {},
   "outputs": [],
   "source": [
    "import pandas as pd\n",
    "import numpy as np\n",
    "import matplotlib.pyplot as plt\n",
    "import seaborn as ans"
   ]
  },
  {
   "cell_type": "code",
   "execution_count": null,
   "metadata": {},
   "outputs": [],
   "source": [
    "car_df = pd.read_csv('cardata.csv')"
   ]
  },
  {
   "cell_type": "code",
   "execution_count": null,
   "metadata": {},
   "outputs": [],
   "source": [
    "car_df"
   ]
  },
  {
   "cell_type": "code",
   "execution_count": null,
   "metadata": {},
   "outputs": [],
   "source": [
    "car_df.head()"
   ]
  },
  {
   "cell_type": "code",
   "execution_count": null,
   "metadata": {},
   "outputs": [],
   "source": [
    "car_df.tail()"
   ]
  },
  {
   "cell_type": "code",
   "execution_count": null,
   "metadata": {},
   "outputs": [],
   "source": [
    "car_df.info()"
   ]
  },
  {
   "cell_type": "code",
   "execution_count": null,
   "metadata": {},
   "outputs": [],
   "source": [
    "car_df.describe()"
   ]
  },
  {
   "cell_type": "code",
   "execution_count": null,
   "metadata": {},
   "outputs": [],
   "source": [
    "car_df.isnull()"
   ]
  },
  {
   "cell_type": "code",
   "execution_count": null,
   "metadata": {},
   "outputs": [],
   "source": [
    "car_df.isnull().sum()"
   ]
  },
  {
   "cell_type": "code",
   "execution_count": null,
   "metadata": {},
   "outputs": [],
   "source": [
    "Step 2: Clean the Data\n",
    "Drop missing values or handle them as needed:\n",
    "\n",
    "python\n",
    "Copy\n",
    "Edit\n",
    "df.dropna(inplace=True)\n",
    "📊 Step 3: Visualize Numeric Columns\n",
    "🔹 Histograms – Distribution of numeric features:\n",
    "python\n",
    "Copy\n",
    "Edit\n",
    "import matplotlib.pyplot as plt\n",
    "import seaborn as sns\n",
    "\n",
    "numeric_cols = df.select_dtypes(include='number').columns\n",
    "\n",
    "df[numeric_cols].hist(bins=20, figsize=(14, 10), edgecolor='black')\n",
    "plt.suptitle('Histograms of Numeric Columns')\n",
    "plt.tight_layout()\n",
    "plt.show()\n",
    "🔹 Box Plots – Spot outliers:\n",
    "python\n",
    "Copy\n",
    "Edit\n",
    "plt.figure(figsize=(14, 8))\n",
    "for i, col in enumerate(numeric_cols):\n",
    "    plt.subplot(2, (len(numeric_cols)+1)//2, i+1)\n",
    "    sns.boxplot(y=df[col])\n",
    "    plt.title(f'Box Plot of {col}')\n",
    "plt.tight_layout()\n",
    "plt.show()\n",
    "🔡 Step 4: Visualize Categorical Columns\n",
    "🔹 Bar Charts – Frequency of categories:\n",
    "python\n",
    "Copy\n",
    "Edit\n",
    "categorical_cols = df.select_dtypes(include='object').columns\n",
    "\n",
    "for col in categorical_cols:\n",
    "    plt.figure(figsize=(8, 5))\n",
    "    sns.countplot(data=df, x=col, order=df[col].value_counts().index)\n",
    "    plt.title(f'Bar Chart of {col}')\n",
    "    plt.xticks(rotation=45)\n",
    "    plt.tight_layout()\n",
    "    plt.show()\n",
    "🔹 Pie Charts – Composition of categories:\n",
    "python\n",
    "Copy\n",
    "Edit\n",
    "for col in categorical_cols:\n",
    "    plt.figure(figsize=(6, 6))\n",
    "    df[col].value_counts().plot.pie(autopct='%1.1f%%', startangle=90, shadow=True)\n",
    "    plt.ylabel('')\n",
    "    plt.title(f'Pie Chart of {col}')\n",
    "    plt.tight_layout()\n",
    "    plt.show()\n",
    "🧠 Step 5: Interpretation Tips\n",
    "Histograms: Skewed income/loan values? Might need log transformation.\n",
    "\n",
    "Box Plots: Spot extreme values in income or loan amount.\n",
    "\n",
    "Bar Charts: Identify imbalances in categories like Gender, Education, etc.\n",
    "\n",
    "Pie Charts: Quick glance at category proportions, e.g., approval rates.\n",
    "\n",
    "Let me know if you want this saved as a .ipynb notebook or if you want to move on to deeper analysis like correlations or bivariate plots!\n",
    "\n",
    "\n",
    "\n",
    "\n",
    "\n",
    "\n",
    "\n"
   ]
  },
  {
   "cell_type": "code",
   "execution_count": null,
   "metadata": {},
   "outputs": [],
   "source": [
    "1. Correlation Analysis + Heatmap\n",
    "This helps identify how strongly numeric variables are related to each other.\n",
    "\n",
    "python\n",
    "Copy\n",
    "Edit\n",
    "import matplotlib.pyplot as plt\n",
    "import seaborn as sns\n",
    "\n",
    "# Calculate correlation matrix\n",
    "corr_matrix = df.select_dtypes(include='number').corr()\n",
    "\n",
    "# Plot heatmap\n",
    "plt.figure(figsize=(10, 6))\n",
    "sns.heatmap(corr_matrix, annot=True, cmap='coolwarm', fmt=\".2f\", linewidths=0.5)\n",
    "plt.title('Correlation Heatmap of Numeric Features')\n",
    "plt.show()\n",
    "🔍 How to interpret it:\n",
    "\n",
    "Values range from -1 to 1\n",
    "\n",
    "Closer to 1: Strong positive correlation\n",
    "\n",
    "Closer to -1: Strong negative correlation\n",
    "\n",
    "Closer to 0: No linear correlation\n",
    "\n",
    "✅ 2. Stacked Bar Chart (Categorical Distribution Across Groups)\n",
    "Let’s say we want to see how Loan_Status is distributed across Property_Area.\n",
    "\n",
    "python\n",
    "Copy\n",
    "Edit\n",
    "# Create crosstab\n",
    "cross_tab = pd.crosstab(df['Property_Area'], df['Loan_Status'])\n",
    "\n",
    "# Plot stacked bar chart\n",
    "cross_tab.plot(kind='bar', stacked=True, figsize=(8,6), colormap='viridis')\n",
    "plt.title('Loan Status by Property Area')\n",
    "plt.xlabel('Property Area')\n",
    "plt.ylabel('Count')\n",
    "plt.xticks(rotation=0)\n",
    "plt.legend(title='Loan Status')\n",
    "plt.tight_layout()\n",
    "plt.show()\n",
    "You can also switch out the variables, like checking:\n",
    "\n",
    "Married vs Loan_Status\n",
    "\n",
    "Education vs Loan_Status\n",
    "\n",
    "Just update the columns in pd.crosstab().\n",
    "\n"
   ]
  },
  {
   "cell_type": "code",
   "execution_count": null,
   "metadata": {},
   "outputs": [],
   "source": [
    "plt.figure(figsize=(8, 6))\n",
    "sns.scatterplot(data=df, x='ApplicantIncome', y='LoanAmount', hue='Loan_Status')\n",
    "plt.title('Applicant Income vs Loan Amount')\n",
    "plt.xlabel('Applicant Income')\n",
    "plt.ylabel('Loan Amount')\n",
    "plt.legend(title='Loan Status')\n",
    "plt.show()\n",
    "Try other combinations too:\n",
    "\n",
    "CoapplicantIncome vs LoanAmount\n",
    "\n",
    "LoanAmount vs Loan_Amount_Term\n",
    "\n",
    "🔄 2. Pair Plots – Multiple Numeric Variables Interactions\n",
    "Already covered earlier, but here’s a quick recap with additional combinations:\n",
    "\n",
    "python\n",
    "Copy\n",
    "Edit\n",
    "# Select multiple numeric variables + a hue for categorical coloring\n",
    "numeric_cols = ['ApplicantIncome', 'CoapplicantIncome', 'LoanAmount']\n",
    "sns.pairplot(df[numeric_cols + ['Loan_Status']], hue='Loan_Status', palette='husl')\n",
    "plt.suptitle('Pairwise Relationships of Numeric Variables', y=1.02)\n",
    "plt.show()\n",
    "🎻 3. Box Plots & Violin Plots – Numeric vs Categorical\n",
    "🔹 Box Plot: Income by Education\n",
    "python\n",
    "Copy\n",
    "Edit\n",
    "plt.figure(figsize=(8, 6))\n",
    "sns.boxplot(data=df, x='Education', y='ApplicantIncome', hue='Loan_Status')\n",
    "plt.title('Applicant Income by Education & Loan Status')\n",
    "plt.show()\n",
    "🔹 Violin Plot: Loan Amount by Property Area\n",
    "python\n",
    "Copy\n",
    "Edit\n",
    "plt.figure(figsize=(8, 6))\n",
    "sns.violinplot(data=df, x='Property_Area', y='LoanAmount', hue='Loan_Status', split=True)\n",
    "plt.title('Loan Amount Distribution by Property Area & Loan Status')\n",
    "plt.show()"
   ]
  },
  {
   "cell_type": "code",
   "execution_count": null,
   "metadata": {},
   "outputs": [],
   "source": []
  },
  {
   "cell_type": "code",
   "execution_count": null,
   "metadata": {},
   "outputs": [],
   "source": [
    "import geopandas as gpd\n",
    "import pandas as pd\n",
    "import matplotlib.pyplot as plt\n",
    "\n",
    "# If your df has 'Latitude' and 'Longitude'\n",
    "df['geometry'] = gpd.points_from_xy(df['Longitude'], df['Latitude'])\n",
    "\n",
    "# Convert to GeoDataFrame\n",
    "gdf = gpd.GeoDataFrame(df, geometry='geometry')\n",
    "\n",
    "# Load base world map\n",
    "world = gpd.read_file(gpd.datasets.get_path('naturalearth_lowres'))\n",
    "\n",
    "# Plot\n",
    "fig, ax = plt.subplots(figsize=(15, 10))\n",
    "world.plot(ax=ax, color='lightgrey')\n",
    "gdf.plot(ax=ax, column='Loan_Status', legend=True, cmap='coolwarm', markersize=20)\n",
    "plt.title('Loan Applications by Geographic Location')\n",
    "plt.show()\n"
   ]
  },
  {
   "cell_type": "code",
   "execution_count": null,
   "metadata": {},
   "outputs": [],
   "source": [
    "# Aggregate approval rate by region\n",
    "approval_by_region = df.groupby('Property_Area')['Loan_Status'].value_counts(normalize=True).unstack()\n",
    "\n",
    "# Plot stacked bar chart\n",
    "approval_by_region.plot(kind='bar', stacked=True, colormap='coolwarm', figsize=(10,6))\n",
    "plt.title('Loan Approval Rate by Region')\n",
    "plt.ylabel('Proportion')\n",
    "plt.xlabel('Region')\n",
    "plt.legend(title='Loan Status')\n",
    "plt.tight_layout()\n",
    "plt.show()\n"
   ]
  },
  {
   "cell_type": "code",
   "execution_count": null,
   "metadata": {},
   "outputs": [],
   "source": [
    "import folium\n",
    "from folium.plugins import HeatMap\n",
    "\n",
    "# Create map centered at average location\n",
    "m = folium.Map(location=[df['Latitude'].mean(), df['Longitude'].mean()], zoom_start=6)\n",
    "\n",
    "# Add heatmap\n",
    "heat_data = df[['Latitude', 'Longitude', 'LoanAmount']].dropna().values.tolist()\n",
    "HeatMap(heat_data).add_to(m)\n",
    "\n",
    "m.save('loan_heatmap.html')  # Save as interactive map\n"
   ]
  }
 ],
 "metadata": {
  "kernelspec": {
   "display_name": "base",
   "language": "python",
   "name": "python3"
  },
  "language_info": {
   "codemirror_mode": {
    "name": "ipython",
    "version": 3
   },
   "file_extension": ".py",
   "mimetype": "text/x-python",
   "name": "python",
   "nbconvert_exporter": "python",
   "pygments_lexer": "ipython3",
   "version": "3.12.7"
  }
 },
 "nbformat": 4,
 "nbformat_minor": 2
}
